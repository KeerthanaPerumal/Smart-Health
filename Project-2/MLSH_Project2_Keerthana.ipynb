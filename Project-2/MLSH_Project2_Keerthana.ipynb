{
 "cells": [
  {
   "cell_type": "markdown",
   "id": "575adec0",
   "metadata": {},
   "source": [
    "# Arrhythmia Classification using random forest\n",
    "\n",
    "The data is the MIT-BIH Arrhythmia Database from Physionet. We aim to classify the beat types into 5 different types: N-Normal, S-Supraventricular ectopic, V-Ventricular ectopic, F-Fusion, and Q-Unknown"
   ]
  },
  {
   "cell_type": "markdown",
   "id": "64ef7697",
   "metadata": {},
   "source": [
    "Importing required libraries:"
   ]
  },
  {
   "cell_type": "code",
   "execution_count": 1,
   "id": "7bd8cdaf",
   "metadata": {},
   "outputs": [],
   "source": [
    "import pandas as pd\n",
    "import numpy as np\n",
    "import matplotlib.pyplot as plt\n",
    "import seaborn as sns\n",
    "from sklearn.ensemble import RandomForestClassifier\n",
    "from sklearn.model_selection import KFold\n",
    "from sklearn.model_selection import cross_val_score\n",
    "from sklearn.metrics import accuracy_score, precision_score, recall_score, f1_score, confusion_matrix, classification_report\n",
    "from sklearn.model_selection import train_test_split\n",
    "from sklearn.model_selection import RandomizedSearchCV"
   ]
  },
  {
   "cell_type": "code",
   "execution_count": 43,
   "id": "e9c77cbe",
   "metadata": {},
   "outputs": [
    {
     "data": {
      "text/html": [
       "<div>\n",
       "<style scoped>\n",
       "    .dataframe tbody tr th:only-of-type {\n",
       "        vertical-align: middle;\n",
       "    }\n",
       "\n",
       "    .dataframe tbody tr th {\n",
       "        vertical-align: top;\n",
       "    }\n",
       "\n",
       "    .dataframe thead th {\n",
       "        text-align: right;\n",
       "    }\n",
       "</style>\n",
       "<table border=\"1\" class=\"dataframe\">\n",
       "  <thead>\n",
       "    <tr style=\"text-align: right;\">\n",
       "      <th></th>\n",
       "      <th>0</th>\n",
       "      <th>1</th>\n",
       "      <th>2</th>\n",
       "      <th>3</th>\n",
       "      <th>4</th>\n",
       "      <th>5</th>\n",
       "      <th>6</th>\n",
       "      <th>7</th>\n",
       "      <th>8</th>\n",
       "      <th>9</th>\n",
       "      <th>...</th>\n",
       "      <th>178</th>\n",
       "      <th>179</th>\n",
       "      <th>180</th>\n",
       "      <th>181</th>\n",
       "      <th>182</th>\n",
       "      <th>183</th>\n",
       "      <th>184</th>\n",
       "      <th>185</th>\n",
       "      <th>186</th>\n",
       "      <th>187</th>\n",
       "    </tr>\n",
       "  </thead>\n",
       "  <tbody>\n",
       "    <tr>\n",
       "      <th>0</th>\n",
       "      <td>0.977941</td>\n",
       "      <td>0.926471</td>\n",
       "      <td>0.681373</td>\n",
       "      <td>0.245098</td>\n",
       "      <td>0.154412</td>\n",
       "      <td>0.191176</td>\n",
       "      <td>0.151961</td>\n",
       "      <td>0.085784</td>\n",
       "      <td>0.058824</td>\n",
       "      <td>0.049020</td>\n",
       "      <td>...</td>\n",
       "      <td>0.0</td>\n",
       "      <td>0.0</td>\n",
       "      <td>0.0</td>\n",
       "      <td>0.0</td>\n",
       "      <td>0.0</td>\n",
       "      <td>0.0</td>\n",
       "      <td>0.0</td>\n",
       "      <td>0.0</td>\n",
       "      <td>0.0</td>\n",
       "      <td>0.0</td>\n",
       "    </tr>\n",
       "    <tr>\n",
       "      <th>1</th>\n",
       "      <td>0.960114</td>\n",
       "      <td>0.863248</td>\n",
       "      <td>0.461538</td>\n",
       "      <td>0.196581</td>\n",
       "      <td>0.094017</td>\n",
       "      <td>0.125356</td>\n",
       "      <td>0.099715</td>\n",
       "      <td>0.088319</td>\n",
       "      <td>0.074074</td>\n",
       "      <td>0.082621</td>\n",
       "      <td>...</td>\n",
       "      <td>0.0</td>\n",
       "      <td>0.0</td>\n",
       "      <td>0.0</td>\n",
       "      <td>0.0</td>\n",
       "      <td>0.0</td>\n",
       "      <td>0.0</td>\n",
       "      <td>0.0</td>\n",
       "      <td>0.0</td>\n",
       "      <td>0.0</td>\n",
       "      <td>0.0</td>\n",
       "    </tr>\n",
       "    <tr>\n",
       "      <th>2</th>\n",
       "      <td>1.000000</td>\n",
       "      <td>0.659459</td>\n",
       "      <td>0.186486</td>\n",
       "      <td>0.070270</td>\n",
       "      <td>0.070270</td>\n",
       "      <td>0.059459</td>\n",
       "      <td>0.056757</td>\n",
       "      <td>0.043243</td>\n",
       "      <td>0.054054</td>\n",
       "      <td>0.045946</td>\n",
       "      <td>...</td>\n",
       "      <td>0.0</td>\n",
       "      <td>0.0</td>\n",
       "      <td>0.0</td>\n",
       "      <td>0.0</td>\n",
       "      <td>0.0</td>\n",
       "      <td>0.0</td>\n",
       "      <td>0.0</td>\n",
       "      <td>0.0</td>\n",
       "      <td>0.0</td>\n",
       "      <td>0.0</td>\n",
       "    </tr>\n",
       "    <tr>\n",
       "      <th>3</th>\n",
       "      <td>0.925414</td>\n",
       "      <td>0.665746</td>\n",
       "      <td>0.541436</td>\n",
       "      <td>0.276243</td>\n",
       "      <td>0.196133</td>\n",
       "      <td>0.077348</td>\n",
       "      <td>0.071823</td>\n",
       "      <td>0.060773</td>\n",
       "      <td>0.066298</td>\n",
       "      <td>0.058011</td>\n",
       "      <td>...</td>\n",
       "      <td>0.0</td>\n",
       "      <td>0.0</td>\n",
       "      <td>0.0</td>\n",
       "      <td>0.0</td>\n",
       "      <td>0.0</td>\n",
       "      <td>0.0</td>\n",
       "      <td>0.0</td>\n",
       "      <td>0.0</td>\n",
       "      <td>0.0</td>\n",
       "      <td>0.0</td>\n",
       "    </tr>\n",
       "    <tr>\n",
       "      <th>4</th>\n",
       "      <td>0.967136</td>\n",
       "      <td>1.000000</td>\n",
       "      <td>0.830986</td>\n",
       "      <td>0.586854</td>\n",
       "      <td>0.356808</td>\n",
       "      <td>0.248826</td>\n",
       "      <td>0.145540</td>\n",
       "      <td>0.089202</td>\n",
       "      <td>0.117371</td>\n",
       "      <td>0.150235</td>\n",
       "      <td>...</td>\n",
       "      <td>0.0</td>\n",
       "      <td>0.0</td>\n",
       "      <td>0.0</td>\n",
       "      <td>0.0</td>\n",
       "      <td>0.0</td>\n",
       "      <td>0.0</td>\n",
       "      <td>0.0</td>\n",
       "      <td>0.0</td>\n",
       "      <td>0.0</td>\n",
       "      <td>0.0</td>\n",
       "    </tr>\n",
       "  </tbody>\n",
       "</table>\n",
       "<p>5 rows × 188 columns</p>\n",
       "</div>"
      ],
      "text/plain": [
       "        0         1         2         3         4         5         6    \\\n",
       "0  0.977941  0.926471  0.681373  0.245098  0.154412  0.191176  0.151961   \n",
       "1  0.960114  0.863248  0.461538  0.196581  0.094017  0.125356  0.099715   \n",
       "2  1.000000  0.659459  0.186486  0.070270  0.070270  0.059459  0.056757   \n",
       "3  0.925414  0.665746  0.541436  0.276243  0.196133  0.077348  0.071823   \n",
       "4  0.967136  1.000000  0.830986  0.586854  0.356808  0.248826  0.145540   \n",
       "\n",
       "        7         8         9    ...  178  179  180  181  182  183  184  185  \\\n",
       "0  0.085784  0.058824  0.049020  ...  0.0  0.0  0.0  0.0  0.0  0.0  0.0  0.0   \n",
       "1  0.088319  0.074074  0.082621  ...  0.0  0.0  0.0  0.0  0.0  0.0  0.0  0.0   \n",
       "2  0.043243  0.054054  0.045946  ...  0.0  0.0  0.0  0.0  0.0  0.0  0.0  0.0   \n",
       "3  0.060773  0.066298  0.058011  ...  0.0  0.0  0.0  0.0  0.0  0.0  0.0  0.0   \n",
       "4  0.089202  0.117371  0.150235  ...  0.0  0.0  0.0  0.0  0.0  0.0  0.0  0.0   \n",
       "\n",
       "   186  187  \n",
       "0  0.0  0.0  \n",
       "1  0.0  0.0  \n",
       "2  0.0  0.0  \n",
       "3  0.0  0.0  \n",
       "4  0.0  0.0  \n",
       "\n",
       "[5 rows x 188 columns]"
      ]
     },
     "execution_count": 43,
     "metadata": {},
     "output_type": "execute_result"
    }
   ],
   "source": [
    "train = pd.read_csv(r'C:\\Users\\bccpe\\Downloads\\mitbih_train.csv',header=None)\n",
    "test= pd.read_csv(r'C:\\Users\\bccpe\\Downloads\\mitbih_test.csv',header=None)\n",
    "train.head()"
   ]
  },
  {
   "cell_type": "code",
   "execution_count": 3,
   "id": "e977ca0c",
   "metadata": {},
   "outputs": [
    {
     "data": {
      "text/plain": [
       "(87554, 188)"
      ]
     },
     "execution_count": 3,
     "metadata": {},
     "output_type": "execute_result"
    }
   ],
   "source": [
    "train.shape"
   ]
  },
  {
   "cell_type": "code",
   "execution_count": 45,
   "id": "4b4805cc",
   "metadata": {},
   "outputs": [],
   "source": [
    "train.rename(columns = {187:'label'}, inplace = True)\n",
    "test.rename(columns = {187:'label'}, inplace = True)"
   ]
  },
  {
   "cell_type": "markdown",
   "id": "6ba8f637",
   "metadata": {},
   "source": [
    "Check for nulls and duplicates"
   ]
  },
  {
   "cell_type": "code",
   "execution_count": 7,
   "id": "c111be78",
   "metadata": {},
   "outputs": [
    {
     "data": {
      "text/plain": [
       "0"
      ]
     },
     "execution_count": 7,
     "metadata": {},
     "output_type": "execute_result"
    }
   ],
   "source": [
    "train.isnull().sum().sum()"
   ]
  },
  {
   "cell_type": "code",
   "execution_count": 8,
   "id": "987478db",
   "metadata": {},
   "outputs": [
    {
     "data": {
      "text/plain": [
       "0"
      ]
     },
     "execution_count": 8,
     "metadata": {},
     "output_type": "execute_result"
    }
   ],
   "source": [
    "train.duplicated().sum()"
   ]
  },
  {
   "cell_type": "code",
   "execution_count": 9,
   "id": "c66bed2c",
   "metadata": {},
   "outputs": [
    {
     "data": {
      "text/plain": [
       "<AxesSubplot:xlabel='label', ylabel='count'>"
      ]
     },
     "execution_count": 9,
     "metadata": {},
     "output_type": "execute_result"
    },
    {
     "data": {
      "image/png": "[encoded data removed]",
      "text/plain": [
       "<Figure size 432x288 with 1 Axes>"
      ]
     },
     "metadata": {
      "needs_background": "light"
     },
     "output_type": "display_data"
    }
   ],
   "source": [
    "sns.countplot(x=train['label'])"
   ]
  },
  {
   "cell_type": "code",
   "execution_count": 10,
   "id": "b163ab1b",
   "metadata": {},
   "outputs": [
    {
     "name": "stdout",
     "output_type": "stream",
     "text": [
      "<class 'pandas.core.frame.DataFrame'>\n",
      "RangeIndex: 87554 entries, 0 to 87553\n",
      "Columns: 188 entries, 0 to label\n",
      "dtypes: float64(188)\n",
      "memory usage: 125.6 MB\n"
     ]
    }
   ],
   "source": [
    "train.info()"
   ]
  },
  {
   "cell_type": "markdown",
   "id": "73a0173a",
   "metadata": {},
   "source": [
    "Visualising the heartbeats:"
   ]
  },
  {
   "cell_type": "code",
   "execution_count": 5,
   "id": "02a899d0",
   "metadata": {},
   "outputs": [],
   "source": [
    "N=train.loc[train['label']==0.0].head(1)\n",
    "S=train.loc[train['label']==1.0].head(1)\n",
    "V=train.loc[train['label']==2.0].head(1)\n",
    "F=train.loc[train['label']==3.0].head(1)\n",
    "Q=train.loc[train['label']==4.0].head(1)"
   ]
  },
  {
   "cell_type": "code",
   "execution_count": 6,
   "id": "44306b40",
   "metadata": {},
   "outputs": [
    {
     "data": {
      "text/plain": [
       "Text(0.5, 1.0, 'Normal heartbeat')"
      ]
     },
     "execution_count": 6,
     "metadata": {},
     "output_type": "execute_result"
    },
    {
     "data": {
      "image/png": "[encoded data removed]",
      "text/plain": [
       "<Figure size 432x288 with 1 Axes>"
      ]
     },
     "metadata": {
      "needs_background": "light"
     },
     "output_type": "display_data"
    }
   ],
   "source": [
    "\n",
    "N=N.iloc[0].values\n",
    "S=S.iloc[0].values\n",
    "V=V.iloc[0].values\n",
    "F=F.iloc[0].values\n",
    "Q=Q.iloc[0].values\n",
    "\n",
    "sns.lineplot(x=range(188),y=N)\n",
    "plt.xlabel('Features')\n",
    "plt.ylabel('Beat values')\n",
    "plt.title('Normal heartbeat')  \n",
    "\n"
   ]
  },
  {
   "cell_type": "code",
   "execution_count": 7,
   "id": "1a85d30b",
   "metadata": {},
   "outputs": [
    {
     "data": {
      "text/plain": [
       "Text(0.5, 1.0, 'Supraventricular ectopic heartbeat')"
      ]
     },
     "execution_count": 7,
     "metadata": {},
     "output_type": "execute_result"
    },
    {
     "data": {
      "image/png": "[encoded data removed]",
      "text/plain": [
       "<Figure size 432x288 with 1 Axes>"
      ]
     },
     "metadata": {
      "needs_background": "light"
     },
     "output_type": "display_data"
    }
   ],
   "source": [
    "sns.lineplot(x=range(188),y=S)\n",
    "plt.xlabel('Features')\n",
    "plt.ylabel('Beat values')\n",
    "plt.title('Supraventricular ectopic heartbeat') "
   ]
  },
  {
   "cell_type": "code",
   "execution_count": 8,
   "id": "429cb243",
   "metadata": {},
   "outputs": [
    {
     "data": {
      "text/plain": [
       "Text(0.5, 1.0, 'Ventricular ectopic heartbeat')"
      ]
     },
     "execution_count": 8,
     "metadata": {},
     "output_type": "execute_result"
    },
    {
     "data": {
      "image/png": "[encoded data removed]",
      "text/plain": [
       "<Figure size 432x288 with 1 Axes>"
      ]
     },
     "metadata": {
      "needs_background": "light"
     },
     "output_type": "display_data"
    }
   ],
   "source": [
    "sns.lineplot(x=range(188),y=V)\n",
    "plt.xlabel('Features')\n",
    "plt.ylabel('Beat values')\n",
    "plt.title('Ventricular ectopic heartbeat') "
   ]
  },
  {
   "cell_type": "code",
   "execution_count": 9,
   "id": "daaeb0a4",
   "metadata": {},
   "outputs": [
    {
     "data": {
      "text/plain": [
       "Text(0.5, 1.0, 'Fusion heartbeat')"
      ]
     },
     "execution_count": 9,
     "metadata": {},
     "output_type": "execute_result"
    },
    {
     "data": {
      "image/png": "[encoded data removed]",
      "text/plain": [
       "<Figure size 432x288 with 1 Axes>"
      ]
     },
     "metadata": {
      "needs_background": "light"
     },
     "output_type": "display_data"
    }
   ],
   "source": [
    "sns.lineplot(x=range(188),y=F)\n",
    "plt.xlabel('Features')\n",
    "plt.ylabel('Beat values')\n",
    "plt.title('Fusion heartbeat')"
   ]
  },
  {
   "cell_type": "code",
   "execution_count": 10,
   "id": "a71d7e47",
   "metadata": {},
   "outputs": [
    {
     "data": {
      "text/plain": [
       "Text(0.5, 1.0, 'Unknown heartbeat')"
      ]
     },
     "execution_count": 10,
     "metadata": {},
     "output_type": "execute_result"
    },
    {
     "data": {
      "image/png": "[encoded data removed]",
      "text/plain": [
       "<Figure size 432x288 with 1 Axes>"
      ]
     },
     "metadata": {
      "needs_background": "light"
     },
     "output_type": "display_data"
    }
   ],
   "source": [
    "sns.lineplot(x=range(188),y=Q)\n",
    "plt.xlabel('Features')\n",
    "plt.ylabel('Beat values')\n",
    "plt.title('Unknown heartbeat')"
   ]
  },
  {
   "cell_type": "markdown",
   "id": "afa8dd99",
   "metadata": {},
   "source": [
    "## Model Prep"
   ]
  },
  {
   "cell_type": "code",
   "execution_count": 36,
   "id": "1b5cbcd1",
   "metadata": {},
   "outputs": [],
   "source": [
    "y=train['label'].values\n",
    "train.drop(['label'],axis=1,inplace=True)\n",
    "X=train.values\n"
   ]
  },
  {
   "cell_type": "code",
   "execution_count": 37,
   "id": "247f81e9",
   "metadata": {},
   "outputs": [],
   "source": [
    "X_train, X_val, y_train, y_val = train_test_split(X, y, test_size=0.25, random_state=42)"
   ]
  },
  {
   "cell_type": "code",
   "execution_count": 38,
   "id": "2258edd7",
   "metadata": {},
   "outputs": [],
   "source": [
    "y_test=test['label'].values\n",
    "test.drop(['label'],axis=1,inplace=True)\n",
    "X_test=test.values"
   ]
  },
  {
   "cell_type": "code",
   "execution_count": 14,
   "id": "a1fd64cb",
   "metadata": {},
   "outputs": [],
   "source": [
    "def classification_rep(model):\n",
    "    model.fit(X_train,y_train)\n",
    "    y_predicted= model.predict(X_val)\n",
    "    print(classification_report(y_val,y_predicted))\n",
    "    print(confusion_matrix(y_val,y_predicted))\n",
    "    "
   ]
  },
  {
   "cell_type": "markdown",
   "id": "b46c8ed4",
   "metadata": {},
   "source": [
    "## Model building"
   ]
  },
  {
   "cell_type": "code",
   "execution_count": 15,
   "id": "27d99d41",
   "metadata": {},
   "outputs": [],
   "source": [
    "rf= RandomForestClassifier(random_state=42)"
   ]
  },
  {
   "cell_type": "code",
   "execution_count": 16,
   "id": "6b918820",
   "metadata": {},
   "outputs": [
    {
     "name": "stdout",
     "output_type": "stream",
     "text": [
      "Cross val score: 0.9755465583981378\n"
     ]
    }
   ],
   "source": [
    "# Using kfold to obtain cross validation score\n",
    "cv = KFold(n_splits=10, shuffle=True, random_state=1)\n",
    "scores = cross_val_score(rf, X, y, scoring='accuracy', cv=cv, n_jobs=-1)\n",
    "print('Cross val score:', (scores).mean())"
   ]
  },
  {
   "cell_type": "code",
   "execution_count": 16,
   "id": "500f1247",
   "metadata": {},
   "outputs": [
    {
     "name": "stdout",
     "output_type": "stream",
     "text": [
      "              precision    recall  f1-score   support\n",
      "\n",
      "         0.0       0.98      1.00      0.99     18205\n",
      "         1.0       0.98      0.62      0.76       521\n",
      "         2.0       0.97      0.88      0.92      1405\n",
      "         3.0       0.92      0.64      0.75       175\n",
      "         4.0       0.99      0.96      0.98      1583\n",
      "\n",
      "    accuracy                           0.98     21889\n",
      "   macro avg       0.97      0.82      0.88     21889\n",
      "weighted avg       0.98      0.98      0.97     21889\n",
      "\n",
      "[[18177     6    16     3     3]\n",
      " [  194   322     4     0     1]\n",
      " [  156     0  1238     7     4]\n",
      " [   50     0    13   112     0]\n",
      " [   66     0     2     0  1515]]\n"
     ]
    }
   ],
   "source": [
    "classification_rep(rf)"
   ]
  },
  {
   "cell_type": "markdown",
   "id": "b5c52198",
   "metadata": {},
   "source": [
    "The model is performing well. However we shall try to improve it further by tuning the hyperparameters"
   ]
  },
  {
   "cell_type": "markdown",
   "id": "d2ca7dcd",
   "metadata": {},
   "source": [
    "## Hyperparameter tuning of Random forest model\n",
    "\n",
    "Hyperparameter tuning using RandomSearchCV"
   ]
  },
  {
   "cell_type": "code",
   "execution_count": 18,
   "id": "064b7681",
   "metadata": {},
   "outputs": [],
   "source": [
    "n_estimators = [200,500,800]\n",
    "max_features = ['auto', 'sqrt']\n",
    "max_depth = [4,5,6,7,8]\n",
    "max_depth.append(None)\n",
    "bootstrap=[True, False]\n",
    "\n",
    "#Creating grid of all parameters\n",
    "random_grid = {'n_estimators': n_estimators,\n",
    "               'max_features': max_features,\n",
    "               'max_depth': max_depth,\n",
    "               'bootstrap': bootstrap}"
   ]
  },
  {
   "cell_type": "code",
   "execution_count": 19,
   "id": "72a56931",
   "metadata": {},
   "outputs": [
    {
     "name": "stdout",
     "output_type": "stream",
     "text": [
      "Fitting 3 folds for each of 10 candidates, totalling 30 fits\n"
     ]
    },
    {
     "data": {
      "text/plain": [
       "RandomizedSearchCV(cv=3, estimator=RandomForestClassifier(random_state=42),\n",
       "                   n_jobs=-1,\n",
       "                   param_distributions={'bootstrap': [True, False],\n",
       "                                        'max_depth': [4, 5, 6, 7, 8, None],\n",
       "                                        'max_features': ['auto', 'sqrt'],\n",
       "                                        'n_estimators': [200, 500, 800]},\n",
       "                   random_state=42, verbose=2)"
      ]
     },
     "execution_count": 19,
     "metadata": {},
     "output_type": "execute_result"
    }
   ],
   "source": [
    "rf_random = RandomizedSearchCV(estimator = rf, param_distributions = random_grid, n_iter = 10, cv = 3, \n",
    "                               verbose=2, random_state=42, n_jobs = -1)\n",
    "rf_random.fit(X_train, y_train)"
   ]
  },
  {
   "cell_type": "code",
   "execution_count": 20,
   "id": "cf82e167",
   "metadata": {},
   "outputs": [
    {
     "name": "stdout",
     "output_type": "stream",
     "text": [
      "              precision    recall  f1-score   support\n",
      "\n",
      "         0.0       0.97      1.00      0.99     18205\n",
      "         1.0       0.98      0.61      0.76       521\n",
      "         2.0       0.97      0.88      0.92      1405\n",
      "         3.0       0.92      0.63      0.75       175\n",
      "         4.0       1.00      0.96      0.98      1583\n",
      "\n",
      "    accuracy                           0.98     21889\n",
      "   macro avg       0.97      0.82      0.88     21889\n",
      "weighted avg       0.98      0.98      0.97     21889\n",
      "\n",
      "[[18175     6    18     3     3]\n",
      " [  194   320     6     0     1]\n",
      " [  159     0  1238     6     2]\n",
      " [   51     0    14   110     0]\n",
      " [   66     0     4     0  1513]]\n"
     ]
    }
   ],
   "source": [
    "# Choosing the best model which has optimal parameters and evaluating performance\n",
    "best_random = rf_random.best_estimator_\n",
    "classification_rep(best_random)"
   ]
  },
  {
   "cell_type": "markdown",
   "id": "9583a81d",
   "metadata": {},
   "source": [
    "There is not much differnce between the non tuned and the tuned model. This may be because the number of parameters defined in the parameter grid and number of iterations is low, so the area searched within the grid space would be very low. A much higher computing time would be required to search though more of the grid space."
   ]
  },
  {
   "cell_type": "markdown",
   "id": "4965f6ef",
   "metadata": {},
   "source": [
    "## Feature Importance"
   ]
  },
  {
   "cell_type": "code",
   "execution_count": 21,
   "id": "022aed5e",
   "metadata": {},
   "outputs": [
    {
     "data": {
      "text/html": [
       "<div>\n",
       "<style scoped>\n",
       "    .dataframe tbody tr th:only-of-type {\n",
       "        vertical-align: middle;\n",
       "    }\n",
       "\n",
       "    .dataframe tbody tr th {\n",
       "        vertical-align: top;\n",
       "    }\n",
       "\n",
       "    .dataframe thead th {\n",
       "        text-align: right;\n",
       "    }\n",
       "</style>\n",
       "<table border=\"1\" class=\"dataframe\">\n",
       "  <thead>\n",
       "    <tr style=\"text-align: right;\">\n",
       "      <th></th>\n",
       "      <th>feature</th>\n",
       "      <th>importance</th>\n",
       "    </tr>\n",
       "  </thead>\n",
       "  <tbody>\n",
       "    <tr>\n",
       "      <th>4</th>\n",
       "      <td>4</td>\n",
       "      <td>0.045304</td>\n",
       "    </tr>\n",
       "    <tr>\n",
       "      <th>3</th>\n",
       "      <td>3</td>\n",
       "      <td>0.039097</td>\n",
       "    </tr>\n",
       "    <tr>\n",
       "      <th>5</th>\n",
       "      <td>5</td>\n",
       "      <td>0.037548</td>\n",
       "    </tr>\n",
       "    <tr>\n",
       "      <th>2</th>\n",
       "      <td>2</td>\n",
       "      <td>0.033365</td>\n",
       "    </tr>\n",
       "    <tr>\n",
       "      <th>6</th>\n",
       "      <td>6</td>\n",
       "      <td>0.030374</td>\n",
       "    </tr>\n",
       "    <tr>\n",
       "      <th>...</th>\n",
       "      <td>...</td>\n",
       "      <td>...</td>\n",
       "    </tr>\n",
       "    <tr>\n",
       "      <th>165</th>\n",
       "      <td>165</td>\n",
       "      <td>0.000214</td>\n",
       "    </tr>\n",
       "    <tr>\n",
       "      <th>175</th>\n",
       "      <td>175</td>\n",
       "      <td>0.000213</td>\n",
       "    </tr>\n",
       "    <tr>\n",
       "      <th>172</th>\n",
       "      <td>172</td>\n",
       "      <td>0.000209</td>\n",
       "    </tr>\n",
       "    <tr>\n",
       "      <th>174</th>\n",
       "      <td>174</td>\n",
       "      <td>0.000180</td>\n",
       "    </tr>\n",
       "    <tr>\n",
       "      <th>173</th>\n",
       "      <td>173</td>\n",
       "      <td>0.000160</td>\n",
       "    </tr>\n",
       "  </tbody>\n",
       "</table>\n",
       "<p>187 rows × 2 columns</p>\n",
       "</div>"
      ],
      "text/plain": [
       "     feature  importance\n",
       "4          4    0.045304\n",
       "3          3    0.039097\n",
       "5          5    0.037548\n",
       "2          2    0.033365\n",
       "6          6    0.030374\n",
       "..       ...         ...\n",
       "165      165    0.000214\n",
       "175      175    0.000213\n",
       "172      172    0.000209\n",
       "174      174    0.000180\n",
       "173      173    0.000160\n",
       "\n",
       "[187 rows x 2 columns]"
      ]
     },
     "execution_count": 21,
     "metadata": {},
     "output_type": "execute_result"
    }
   ],
   "source": [
    "importance = best_random.feature_importances_\n",
    "feature_importance={}\n",
    "for i,v in enumerate(importance):\n",
    "    feature_importance[i]=v\n",
    "feature_df=pd.DataFrame({'feature':feature_importance.keys(),'importance':feature_importance.values()})\n",
    "feature_df = feature_df.sort_values(['importance'], ascending=[False])\n",
    "feature_df"
   ]
  },
  {
   "cell_type": "code",
   "execution_count": 22,
   "id": "6a7c27c9",
   "metadata": {},
   "outputs": [
    {
     "data": {
      "text/plain": [
       "array([  4,   3,   5,   2,   6,   1,  11,   7,   0,  10,   8,  37,  12,\n",
       "        13,  36,  35,   9,  14,  24,  23,  38,  34,  15,  25,  22,  44,\n",
       "        33,  45,  21,  46,  26,  43,  39,  20,  32,  19,  28,  17,  47,\n",
       "        40,  16,  27,  42,  30,  41,  29,  18,  48,  31, 102, 101, 100,\n",
       "       103,  98,  49,  97], dtype=int64)"
      ]
     },
     "execution_count": 22,
     "metadata": {},
     "output_type": "execute_result"
    }
   ],
   "source": [
    "indexes=feature_df.loc[feature_df['importance'] > 0.005, 'feature']\n",
    "(indexes.values)"
   ]
  },
  {
   "cell_type": "code",
   "execution_count": 39,
   "id": "97f8cf4a",
   "metadata": {},
   "outputs": [],
   "source": [
    "# Taking subet of training data which only includes important features\n",
    "X_train=X_train[:,indexes]\n",
    "X_val=X_val[:,indexes]"
   ]
  },
  {
   "cell_type": "code",
   "execution_count": 40,
   "id": "7fdadc1d",
   "metadata": {},
   "outputs": [
    {
     "name": "stdout",
     "output_type": "stream",
     "text": [
      "              precision    recall  f1-score   support\n",
      "\n",
      "         0.0       0.98      1.00      0.99     18205\n",
      "         1.0       0.96      0.60      0.74       521\n",
      "         2.0       0.96      0.89      0.92      1405\n",
      "         3.0       0.89      0.60      0.72       175\n",
      "         4.0       0.99      0.96      0.97      1583\n",
      "\n",
      "    accuracy                           0.97     21889\n",
      "   macro avg       0.96      0.81      0.87     21889\n",
      "weighted avg       0.97      0.97      0.97     21889\n",
      "\n",
      "[[18163    13    19     5     5]\n",
      " [  199   313     7     0     2]\n",
      " [  142     1  1247     8     7]\n",
      " [   56     0    14   105     0]\n",
      " [   64     0     6     0  1513]]\n"
     ]
    }
   ],
   "source": [
    "classification_rep(best_random)"
   ]
  },
  {
   "cell_type": "markdown",
   "id": "50c95b59",
   "metadata": {},
   "source": [
    "Since hyperparameter tuning and feature selection haven't yielded better results, we will revert back to orginal train set finally check results on the test set."
   ]
  },
  {
   "cell_type": "code",
   "execution_count": 46,
   "id": "a7c54de5",
   "metadata": {},
   "outputs": [],
   "source": [
    "X_train, X_val, y_train, y_val = train_test_split(X, y, test_size=0.25, random_state=42)\n",
    "y_test=test['label'].values\n",
    "test.drop(['label'],axis=1,inplace=True)\n",
    "X_test=test.values"
   ]
  },
  {
   "cell_type": "code",
   "execution_count": 49,
   "id": "6a51a445",
   "metadata": {},
   "outputs": [
    {
     "name": "stdout",
     "output_type": "stream",
     "text": [
      "              precision    recall  f1-score   support\n",
      "\n",
      "         0.0       0.97      1.00      0.98     18118\n",
      "         1.0       0.98      0.59      0.74       556\n",
      "         2.0       0.98      0.87      0.92      1448\n",
      "         3.0       0.88      0.58      0.70       162\n",
      "         4.0       0.99      0.94      0.97      1608\n",
      "\n",
      "    accuracy                           0.97     21892\n",
      "   macro avg       0.96      0.80      0.86     21892\n",
      "weighted avg       0.97      0.97      0.97     21892\n",
      "\n",
      "[[18100     7     9     0     2]\n",
      " [  225   329     1     0     1]\n",
      " [  166     1  1263    13     5]\n",
      " [   54     0    14    94     0]\n",
      " [   89     0     3     0  1516]]\n"
     ]
    }
   ],
   "source": [
    "best_random.fit(X_train,y_train)\n",
    "y_predicted= best_random.predict(X_test)\n",
    "print(classification_report(y_test,y_predicted))\n",
    "print(confusion_matrix(y_test,y_predicted))"
   ]
  }
 ],
 "metadata": {
  "kernelspec": {
   "display_name": "Python 3",
   "language": "python",
   "name": "python3"
  },
  "language_info": {
   "codemirror_mode": {
    "name": "ipython",
    "version": 3
   },
   "file_extension": ".py",
   "mimetype": "text/x-python",
   "name": "python",
   "nbconvert_exporter": "python",
   "pygments_lexer": "ipython3",
   "version": "3.8.8"
  }
 },
 "nbformat": 4,
 "nbformat_minor": 5
}
